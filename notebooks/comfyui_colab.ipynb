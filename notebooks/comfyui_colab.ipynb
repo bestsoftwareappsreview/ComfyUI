{
  "nbformat": 4,
  "nbformat_minor": 0,
  "metadata": {
    "colab": {
      "provenance": []
    },
    "kernelspec": {
      "name": "python3",
      "display_name": "Python 3"
    },
    "language_info": {
      "name": "python"
    },
    "accelerator": "GPU",
    "gpuClass": "standard"
  },
  "cells": [
    {
      "cell_type": "markdown",
      "source": [
        "Git clone the repo and install the requirements. (ignore the pip errors about protobuf)"
      ],
      "metadata": {
        "id": "aaaaaaaaaa"
      }
    },
    {
      "cell_type": "code",
      "execution_count": null,
      "metadata": {
        "id": "bbbbbbbbbb"
      },
      "outputs": [],
      "source": [
        "!git clone https://github.com/comfyanonymous/ComfyUI\n",
        "%cd ComfyUI\n",
        "!pip install -r requirements.txt"
      ]
    },
    {
      "cell_type": "markdown",
      "source": [
        "Download some models/checkpoints/vae:"
      ],
      "metadata": {
        "id": "cccccccccc"
      }
    },
    {
      "cell_type": "code",
      "source": [
        "!wget https://huggingface.co/runwayml/stable-diffusion-v1-5/resolve/main/v1-5-pruned-emaonly.ckpt -P ./models/checkpoints/\n",
        "!wget https://huggingface.co/stabilityai/sd-vae-ft-mse-original/blob/main/vae-ft-mse-840000-ema-pruned.safetensors -P ./models/vae/\n",
        "!wget https://huggingface.co/WarriorMama777/OrangeMixs/resolve/main/Models/AbyssOrangeMix2/AbyssOrangeMix2_hard.safetensors -P ./models/checkpoints/\n"
      ],
      "metadata": {
        "id": "dddddddddd"
      },
      "execution_count": null,
      "outputs": []
    },
    {
      "cell_type": "markdown",
      "source": [
        "Launch a http server to see the output pics:"
      ],
      "metadata": {
        "id": "eeeeeeeeee"
      }
    },
    {
      "cell_type": "code",
      "source": [
        "from google.colab import output\n",
        "output.serve_kernel_port_as_window(8000)\n",
        "get_ipython().system_raw('cd output && python3 -m http.server 8000 &') "
      ],
      "metadata": {
        "id": "ffffffffff"
      },
      "execution_count": null,
      "outputs": []
    },
    {
      "cell_type": "markdown",
      "source": [
        "Run ComfyUI:"
      ],
      "metadata": {
        "id": "gggggggggg"
      }
    },
    {
      "cell_type": "code",
      "source": [
        "from google.colab import output\n",
        "print(\"click this once the GUI is loaded:\")\n",
        "output.serve_kernel_port_as_window(8188)\n",
        "!sed -i 's/127.0.0.1/0.0.0.0/g' main.py\n",
        "!python main.py"
      ],
      "metadata": {
        "id": "hhhhhhhhhh"
      },
      "execution_count": null,
      "outputs": []
    }
  ]
}